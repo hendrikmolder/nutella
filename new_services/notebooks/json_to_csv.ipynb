{
 "cells": [
  {
   "cell_type": "code",
   "execution_count": 3,
   "metadata": {},
   "outputs": [],
   "source": [
    "import json\n",
    "import pandas as pd\n",
    "from pandas import DataFrame\n",
    "from pandas.io.json import json_normalize #package for flattening json in pandas df"
   ]
  },
  {
   "cell_type": "code",
   "execution_count": 8,
   "metadata": {},
   "outputs": [],
   "source": [
    "# COPY META COLUMNS TO PERIOD RESULTS DATAFRAME\n",
    "# a: 1-row DataFrame containing Period and meta columns\n",
    "# b: results DataFrame\n",
    "def copy_meta_to_period(a, b):\n",
    "    headers = list(a)\n",
    "    for i in range(1,len(headers)):\n",
    "        b[str(headers[i])] = a.iloc[0][i]\n",
    "    return b\n",
    "\n",
    "def handle_lists(x, i):\n",
    "    a = DataFrame(x.iloc[i].to_dict())\n",
    "    b = json_normalize(data=a['Period'], record_path=['Rep'], meta=['type', 'value'])\n",
    "    return a, b\n",
    "\n",
    "def handle_objects(x, i):\n",
    "    a = DataFrame(x.iloc[i])\n",
    "    b = json_normalize(data=a.T['Period'], record_path=['Rep'], meta=['type', 'value'])\n",
    "    return a, b\n",
    "\n",
    "def weather_json2csv(file_path):\n",
    "    with open(file_path) as f:\n",
    "        d = pd.io.json.loads(f)\n",
    "\n",
    "    data_by_location = json_normalize(data=d['SiteRep']['DV'], \n",
    "                                      record_path=['Location'],\n",
    "                                      meta=['dataDate', 'type'])\n",
    "    \n",
    "    result = DataFrame()\n",
    "    # Loop over all rows of location\n",
    "    for i in range (0, len(data_by_location)):\n",
    "\n",
    "        if (isinstance(data_by_location.iloc[i]['Period'], list)): # Handle lists\n",
    "            [a, b] = handle_lists(data_by_location, i)\n",
    "        else:                                              # Handle objects\n",
    "            [a, b] = handle_objects(data_by_location, i)\n",
    "\n",
    "        if (len(result) == 0):\n",
    "            result = copy_meta_to_period(a, b)\n",
    "        else:\n",
    "            result = result.append(copy_meta_to_period(a, b), ignore_index=True)\n",
    "\n",
    "    return result.to_csv('result.csv')    "
   ]
  },
  {
   "cell_type": "code",
   "execution_count": 9,
   "metadata": {},
   "outputs": [
    {
     "ename": "TypeError",
     "evalue": "Expected String or Unicode",
     "output_type": "error",
     "traceback": [
      "\u001b[1;31m---------------------------------------------------------------------------\u001b[0m",
      "\u001b[1;31mTypeError\u001b[0m                                 Traceback (most recent call last)",
      "\u001b[1;32m<ipython-input-9-8cffb7bca368>\u001b[0m in \u001b[0;36m<module>\u001b[1;34m()\u001b[0m\n\u001b[1;32m----> 1\u001b[1;33m \u001b[0mweather_json2csv\u001b[0m\u001b[1;33m(\u001b[0m\u001b[1;34m'./test_data/weather_obs-1.json'\u001b[0m\u001b[1;33m)\u001b[0m\u001b[1;33m\u001b[0m\u001b[0m\n\u001b[0m",
      "\u001b[1;32m<ipython-input-8-36025bb09014>\u001b[0m in \u001b[0;36mweather_json2csv\u001b[1;34m(file_path)\u001b[0m\n\u001b[0;32m     20\u001b[0m \u001b[1;32mdef\u001b[0m \u001b[0mweather_json2csv\u001b[0m\u001b[1;33m(\u001b[0m\u001b[0mfile_path\u001b[0m\u001b[1;33m)\u001b[0m\u001b[1;33m:\u001b[0m\u001b[1;33m\u001b[0m\u001b[0m\n\u001b[0;32m     21\u001b[0m     \u001b[1;32mwith\u001b[0m \u001b[0mopen\u001b[0m\u001b[1;33m(\u001b[0m\u001b[0mfile_path\u001b[0m\u001b[1;33m)\u001b[0m \u001b[1;32mas\u001b[0m \u001b[0mf\u001b[0m\u001b[1;33m:\u001b[0m\u001b[1;33m\u001b[0m\u001b[0m\n\u001b[1;32m---> 22\u001b[1;33m         \u001b[0md\u001b[0m \u001b[1;33m=\u001b[0m \u001b[0mpd\u001b[0m\u001b[1;33m.\u001b[0m\u001b[0mio\u001b[0m\u001b[1;33m.\u001b[0m\u001b[0mjson\u001b[0m\u001b[1;33m.\u001b[0m\u001b[0mloads\u001b[0m\u001b[1;33m(\u001b[0m\u001b[0mf\u001b[0m\u001b[1;33m)\u001b[0m\u001b[1;33m\u001b[0m\u001b[0m\n\u001b[0m\u001b[0;32m     23\u001b[0m \u001b[1;33m\u001b[0m\u001b[0m\n\u001b[0;32m     24\u001b[0m     data_by_location = json_normalize(data=d['SiteRep']['DV'], \n",
      "\u001b[1;31mTypeError\u001b[0m: Expected String or Unicode"
     ]
    }
   ],
   "source": [
    "weather_json2csv('./test_data/weather_obs-1.json')"
   ]
  },
  {
   "cell_type": "code",
   "execution_count": null,
   "metadata": {},
   "outputs": [],
   "source": []
  }
 ],
 "metadata": {
  "kernelspec": {
   "display_name": "Python 3",
   "language": "python",
   "name": "python3"
  },
  "language_info": {
   "codemirror_mode": {
    "name": "ipython",
    "version": 3
   },
   "file_extension": ".py",
   "mimetype": "text/x-python",
   "name": "python",
   "nbconvert_exporter": "python",
   "pygments_lexer": "ipython3",
   "version": "3.6.4"
  }
 },
 "nbformat": 4,
 "nbformat_minor": 2
}
