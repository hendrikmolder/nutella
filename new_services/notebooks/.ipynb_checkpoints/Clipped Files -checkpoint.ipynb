{
 "cells": [
  {
   "cell_type": "markdown",
   "metadata": {},
   "source": [
    "# Paper 2 Workspace\n",
    "\n",
    "File clipping operations are performed in this notebook to reduce the size of the files. This will allow us to validate the functionality faster."
   ]
  },
  {
   "cell_type": "code",
   "execution_count": 1,
   "metadata": {},
   "outputs": [],
   "source": [
    "# Import libraries\n",
    "import json\n",
    "import pandas as pd\n",
    "from pandas import DataFrame\n",
    "from pandas.io.json import json_normalize #package for flattening json in pandas df"
   ]
  },
  {
   "cell_type": "code",
   "execution_count": 12,
   "metadata": {},
   "outputs": [],
   "source": [
    "# Define file paths\n",
    "file_1 = '../../DATA/Feb2018/rawpvr_2018-02-01_28d_1083.csv'\n",
    "file_2 = '../../DATA/Feb2018/staticSitesInfoModified.xlsx'\n",
    "\n",
    "# Read in the files\n",
    "file1 = pd.read_csv(file_1)\n",
    "file2 = pd.read_excel(file_2)"
   ]
  },
  {
   "cell_type": "code",
   "execution_count": 24,
   "metadata": {},
   "outputs": [],
   "source": [
    "clipped_path = '../test_data/clipped_1083.csv'\n",
    "\n",
    "filtered_file = file1[file1.Date>=\"2018-02-02\"]\n",
    "\n",
    "clipped_file = filtered_file.head(200)\n",
    "clipped_file\n",
    "clipped_file.to_csv(clipped_path, index=False)"
   ]
  }
 ],
 "metadata": {
  "kernelspec": {
   "display_name": "Python 3",
   "language": "python",
   "name": "python3"
  },
  "language_info": {
   "codemirror_mode": {
    "name": "ipython",
    "version": 3
   },
   "file_extension": ".py",
   "mimetype": "text/x-python",
   "name": "python",
   "nbconvert_exporter": "python",
   "pygments_lexer": "ipython3",
   "version": "3.6.4"
  }
 },
 "nbformat": 4,
 "nbformat_minor": 2
}
